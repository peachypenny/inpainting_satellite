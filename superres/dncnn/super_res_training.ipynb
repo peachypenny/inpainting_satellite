{
 "cells": [
  {
   "cell_type": "code",
   "execution_count": null,
   "metadata": {},
   "outputs": [],
   "source": [
    "import os\n",
    "import numpy as np\n",
    "import seaborn as sns\n",
    "import lightning as L\n",
    "import torch.optim as optim\n",
    "import glob\n",
    "import h5py\n",
    "import pandas as pd\n",
    "import matplotlib.pyplot as plt\n",
    "\n",
    "from lightning.pytorch.loggers import CSVLogger\n",
    "from skimage.transform import resize\n",
    "from torch.utils.data import DataLoader\n",
    "from models import *\n",
    "from utils import *\n",
    "from dataset import *"
   ]
  },
  {
   "cell_type": "code",
   "execution_count": null,
   "metadata": {},
   "outputs": [],
   "source": [
    "LR = 1e-3\n",
    "DECAY = 1e-7 \n",
    "EPOCHS = 10\n",
    "BATCH_SIZE = 64\n",
    "PATCH_SIZE = 128"
   ]
  },
  {
   "cell_type": "code",
   "execution_count": null,
   "metadata": {},
   "outputs": [],
   "source": [
    "path = '../data/super_res_set1'\n",
    "train = LSTDataset(os.path.join(path, 'train.hdf5'))\n",
    "valid = LSTDataset(os.path.join(path, 'valid.hdf5'))\n",
    "test = LSTDataset(os.path.join(path, 'test.hdf5'))\n",
    "\n",
    "loader_train = DataLoader(dataset=train, batch_size=BATCH_SIZE, shuffle=True)\n",
    "loader_valid = DataLoader(dataset=valid, batch_size=len(valid), shuffle=True)\n",
    "loader_test = DataLoader(dataset=test, batch_size=len(test), shuffle=True)"
   ]
  },
  {
   "cell_type": "code",
   "execution_count": null,
   "metadata": {},
   "outputs": [],
   "source": [
    "train_loss = []\n",
    "valid_loss = []\n",
    "\n",
    "if torch.cuda.is_available():\n",
    "  device = torch.device(torch.cuda.current_device())\n",
    "else:\n",
    "  raise RuntimeError('No GPU')\n",
    "\n",
    "model = DnCNN(channels=1).to(device)"
   ]
  },
  {
   "cell_type": "code",
   "execution_count": null,
   "metadata": {},
   "outputs": [],
   "source": [
    "model.apply(weights_init_kaiming)\n",
    "optimizer = optim.Adam(model.parameters(), lr=LR, weight_decay=DECAY)\n",
    "loss_fn = nn.MSELoss(reduction='sum')\n",
    "\n",
    "modis_model = dncnn_lightning(model=model, optimizer=optimizer, loss_fn=loss_fn)\n",
    "# modis_model = dncnn_lightning.load_from_checkpoint('./logs/super_res1/version_2/checkpoints/epoch=8-step=720.ckpt', model=model, optimizer=optimizer, loss_fn=loss_fn)"
   ]
  },
  {
   "cell_type": "code",
   "execution_count": null,
   "metadata": {},
   "outputs": [],
   "source": [
    "exp_name = 'super_res1'\n",
    "logger = CSVLogger('logs', name=exp_name)\n",
    "logger.log_hyperparams({'epochs': EPOCHS, 'loss_fn': str(loss_fn), 'lr': LR, 'optimizer': str(optimizer)})\n",
    "\n",
    "trainer = L.Trainer(max_epochs=EPOCHS, logger=logger, log_every_n_steps=5)\n",
    "trainer.fit(model=modis_model, train_dataloaders=loader_train, val_dataloaders=loader_valid)"
   ]
  },
  {
   "cell_type": "code",
   "execution_count": null,
   "metadata": {},
   "outputs": [],
   "source": [
    "metrics = pd.read_csv('logs/super_res1/version_15/metrics.csv')"
   ]
  },
  {
   "cell_type": "code",
   "execution_count": null,
   "metadata": {},
   "outputs": [],
   "source": [
    "plt.plot(metrics['train_loss'])\n",
    "plt.plot(metrics['valid_loss'])"
   ]
  },
  {
   "cell_type": "code",
   "execution_count": null,
   "metadata": {},
   "outputs": [],
   "source": [
    "losses = trainer.test(model=modis_model, dataloaders=loader_test)"
   ]
  },
  {
   "cell_type": "code",
   "execution_count": null,
   "metadata": {},
   "outputs": [],
   "source": []
  }
 ],
 "metadata": {
  "kernelspec": {
   "display_name": "inpaint",
   "language": "python",
   "name": "python3"
  },
  "language_info": {
   "codemirror_mode": {
    "name": "ipython",
    "version": 3
   },
   "file_extension": ".py",
   "mimetype": "text/x-python",
   "name": "python",
   "nbconvert_exporter": "python",
   "pygments_lexer": "ipython3",
   "version": "3.9.undefined"
  }
 },
 "nbformat": 4,
 "nbformat_minor": 2
}
