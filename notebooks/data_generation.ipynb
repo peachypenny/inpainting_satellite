{
 "cells": [
  {
   "cell_type": "code",
   "execution_count": 1,
   "metadata": {},
   "outputs": [],
   "source": [
    "import sys\n",
    "import os\n",
    "import numpy as np\n",
    "import pandas as pd\n",
    "import random\n",
    "sys.path.append('../source')\n",
    "from utils import *"
   ]
  },
  {
   "cell_type": "code",
   "execution_count": 2,
   "metadata": {},
   "outputs": [],
   "source": [
    "\n",
    "def image_filter(images: dict):\n",
    "    # for key, img in images.copy().items():\n",
    "    #     if get_percent_coverage(img) != 0:\n",
    "    #         del images[key]\n",
    "    keys = random.sample(sorted(images.keys()), 10)\n",
    "    return {k: images[k] for k in keys}\n",
    "\n",
    "def mask_filter(masks: dict, ):\n",
    "    for key, mask in masks.copy().items():\n",
    "        print(get_percent_coverage(mask))\n",
    "        if get_percent_coverage(mask) != 0:\n",
    "            del masks[key]\n",
    "    return masks\n",
    "\n",
    "def generate_lst_dataset(\n",
    "    images: list, \n",
    "    masks: list, \n",
    "    patch_size: tuple, \n",
    "    image_filter,\n",
    "    mask_filter,\n",
    "    save_path: str,\n",
    "    limit=5000\n",
    "    ):\n",
    "    \"\"\"Generates LST dataset by retiling images masks. Masks are named by originalname_r_c\n",
    "\n",
    "    Args:\n",
    "        images (list): hdf images to retile\n",
    "        masks (list): hdf masks to retile\n",
    "        patch_size (tuple): size of patches\n",
    "        image_filter (function): function returning a filtered list of images\n",
    "        mask_filter (function): function returning a filtered list of masks\n",
    "        save_path (str): directory to save images and masked images\n",
    "        limit (int, optional): set limit of images to save. Defaults to 5000.\n",
    "    \"\"\"\n",
    "    collection = pd.DataFrame(columns=['sample', 'ground_truth'])\n",
    "    \n",
    "    for image in images:\n",
    "        basename = os.path.splitext(os.path.basename(image))[0]\n",
    "        lst = get_lst_day(image)\n",
    "        lst_tiles = retile_and_name(lst, basename, patch_size)\n",
    "        if image_filter is not None:\n",
    "            lst_tiles = image_filter(lst_tiles)\n",
    "    \n",
    "    for mask in masks:\n",
    "        basename = os.path.splitext(os.path.basename(image))[0]\n",
    "        mask = get_cloud_mask(mask)\n",
    "        mask_tiles = retile_and_name(mask, basename, patch_size)\n",
    "        if mask_filter is not None:\n",
    "            mask_tiles = mask_filter(mask_tiles)\n",
    "    \n",
    "    assert len(mask_tiles) * len(lst_tiles) <= limit, 'Limit Exceeded ({} total images)'.format(len(mask_tiles) * len(lst_tiles))\n",
    "    assert len(mask_tiles) > 0 and len(lst_tiles) > 0, 'Either masks or images are empty'\n",
    "    assert len(mask_tiles) == 10 and len(lst_tiles) == 10, 'WRONG'\n",
    "    assert len(os.listdir(save_path)) != 0, 'Save path not empty' \n",
    "    \n",
    "    if not os.path.exists(save_path):\n",
    "        os.makedirs(save_path)\n",
    "    if not os.path.exists(os.path.join(save_path, 'ground_truth')):\n",
    "        os.makedirs(os.path.join(save_path, 'ground_truth'))\n",
    "    if not os.path.exists(os.path.join(save_path, 'masked_images')):\n",
    "        os.makedirs(os.path.join(save_path, 'masked_images'))\n",
    "    if not os.path.exists(os.path.join(save_path, 'masks')):\n",
    "        os.makedirs(os.path.join(save_path, 'masks'))\n",
    "    \n",
    "    for image_name, image in lst_tiles.items():\n",
    "        image_filename = image_name + '.npy'\n",
    "        np.save(os.path.join(save_path, 'ground_truth', image_filename), image)\n",
    "        for mask_name, mask in mask_tiles.items():\n",
    "            if not os.path.exists(os.path.join(save_path, 'masks', mask_name + 'npy')):\n",
    "                np.save(os.path.join(save_path, 'masks', mask_name + 'npy'), mask)\n",
    "                \n",
    "            masked_lst = np.multiply(image, mask)\n",
    "            masked_lst_filename = mask_name + '_' + image_name + '.npy'\n",
    "            # ADD ASSERTIONS HERE\n",
    "\n",
    "            np.save(os.path.join(save_path, 'masked_images', masked_lst_filename), masked_lst)\n",
    "\n",
    "            collection.loc[len(collection.index)] = [ \n",
    "                masked_lst_filename,\n",
    "                image_filename,\n",
    "            ]      \n",
    "             \n",
    "    collection.to_csv(os.path.join(save_path, 'collection.csv'))"
   ]
  },
  {
   "cell_type": "code",
   "execution_count": 3,
   "metadata": {},
   "outputs": [],
   "source": [
    "data_path = '../data/'\n",
    "sample = [os.path.join(data_path, 'LST_miniset', 'raw', os.listdir(os.path.join(data_path, 'LST_miniset', 'raw'))[0])]"
   ]
  },
  {
   "cell_type": "code",
   "execution_count": 4,
   "metadata": {},
   "outputs": [],
   "source": [
    "generate_lst_dataset(\n",
    "    images=sample, \n",
    "    masks=sample, \n",
    "    patch_size=(36, 36), \n",
    "    image_filter=image_filter, \n",
    "    mask_filter=image_filter,\n",
    "    save_path=os.path.join(data_path, 'test')\n",
    "    )"
   ]
  },
  {
   "cell_type": "code",
   "execution_count": 30,
   "metadata": {},
   "outputs": [],
   "source": [
    "assert len(os.listdir(os.path.join(data_path, 'test','masked_images'))) == 100"
   ]
  },
  {
   "cell_type": "code",
   "execution_count": 11,
   "metadata": {},
   "outputs": [],
   "source": [
    "ds = pd.read_csv(os.path.join(data_path,'test', 'collection.csv'), index_col=0)"
   ]
  },
  {
   "cell_type": "code",
   "execution_count": 22,
   "metadata": {},
   "outputs": [],
   "source": [
    "assert len(ds['sample']) == len(np.unique(ds['sample'])), 'Fail'\n",
    "assert len(np.unique(ds['ground_truth'])) == 10, 'Fail'"
   ]
  },
  {
   "cell_type": "code",
   "execution_count": 19,
   "metadata": {},
   "outputs": [
    {
     "name": "stdout",
     "output_type": "stream",
     "text": [
      "10\n"
     ]
    }
   ],
   "source": []
  },
  {
   "cell_type": "code",
   "execution_count": null,
   "metadata": {},
   "outputs": [],
   "source": []
  },
  {
   "cell_type": "code",
   "execution_count": null,
   "metadata": {},
   "outputs": [],
   "source": []
  }
 ],
 "metadata": {
  "kernelspec": {
   "display_name": "cloud_inpaint",
   "language": "python",
   "name": "python3"
  },
  "language_info": {
   "codemirror_mode": {
    "name": "ipython",
    "version": 3
   },
   "file_extension": ".py",
   "mimetype": "text/x-python",
   "name": "python",
   "nbconvert_exporter": "python",
   "pygments_lexer": "ipython3",
   "version": "3.11.6"
  }
 },
 "nbformat": 4,
 "nbformat_minor": 2
}
