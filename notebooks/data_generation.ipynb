{
 "cells": [
  {
   "cell_type": "code",
   "execution_count": 1,
   "metadata": {},
   "outputs": [],
   "source": [
    "import sys\n",
    "import os\n",
    "import numpy as np\n",
    "import pandas as pd\n",
    "import random\n",
    "import json\n",
    "import earthaccess\n",
    "sys.path.append('../source')\n",
    "from utils import *"
   ]
  },
  {
   "cell_type": "markdown",
   "metadata": {},
   "source": [
    "**Required Funcs**"
   ]
  },
  {
   "cell_type": "code",
   "execution_count": 2,
   "metadata": {},
   "outputs": [],
   "source": [
    "def generate_lst_dataset(\n",
    "    images: list, \n",
    "    masks: list, \n",
    "    patch_size: tuple, \n",
    "    save_path: str,\n",
    "    skip_mask = False, \n",
    "    image_filter = None,\n",
    "    mask_filter = None,\n",
    "    limit=5000\n",
    "    ):\n",
    "    \"\"\"Generates LST dataset by retiling images masks. Masks are named by originalname_r_c\n",
    "\n",
    "    Args:\n",
    "        images (list): hdf images to retile\n",
    "        masks (list): hdf masks to retile\n",
    "        patch_size (tuple): size of patches\n",
    "        image_filter (function): function returning a filtered list of images\n",
    "        mask_filter (function): function returning a filtered list of masks\n",
    "        save_path (str): directory to save images and masked images\n",
    "        limit (int, optional): set limit of images to save. Defaults to 5000.\n",
    "    \"\"\"\n",
    "    collection = pd.DataFrame(columns=['sample', 'ground_truth'])\n",
    "    \n",
    "    # Create LST tiles from hdf files\n",
    "    lst_tiles = {}\n",
    "    for image in images:\n",
    "        basename = os.path.splitext(os.path.basename(image))[0]\n",
    "        lst = get_lst_day(image)\n",
    "        tiles_temp = retile_and_name(lst, basename, patch_size)\n",
    "        if image_filter is not None:\n",
    "            tiles_temp = image_filter(tiles_temp)\n",
    "        lst_tiles = {**lst_tiles, **tiles_temp}\n",
    "    print('# of LST tiles: {}'.format(len(lst_tiles)))\n",
    "        \n",
    "    assert len(os.listdir(save_path)) == 0, 'Save path not empty'\n",
    "    \n",
    "    # Create paths for ground_truth\n",
    "    if not os.path.exists(save_path):\n",
    "        os.makedirs(save_path)\n",
    "    if not os.path.exists(os.path.join(save_path, 'ground_truth')):\n",
    "        os.makedirs(os.path.join(save_path, 'ground_truth'))\n",
    "    \n",
    "    # For baseline testing\n",
    "    if skip_mask:\n",
    "        for image_name, image in lst_tiles.items():\n",
    "            image_filename = image_name + '.npy'\n",
    "            np.save(os.path.join(save_path, 'ground_truth', image_filename), image)\n",
    "            collection.loc[len(collection.index)] = [ \n",
    "                image_filename,\n",
    "                image_filename,\n",
    "            ]       \n",
    "    \n",
    "    # Make directories for masked images and masks, then creates masks and applies over \n",
    "    # ground truth images\n",
    "    else:\n",
    "        if not os.path.exists(os.path.join(save_path, 'masked_images')):\n",
    "            os.makedirs(os.path.join(save_path, 'masked_images'))\n",
    "        if not os.path.exists(os.path.join(save_path, 'masks')):\n",
    "            os.makedirs(os.path.join(save_path, 'masks'))\n",
    "        \n",
    "        # Creates masks\n",
    "        mask_tiles = {}\n",
    "        for mask in masks:\n",
    "            basename = os.path.splitext(os.path.basename(image))[0]\n",
    "            mask = get_cloud_mask(mask)\n",
    "            tiles_temp = retile_and_name(mask, basename, patch_size)\n",
    "            if mask_filter is not None:\n",
    "                tiles_temp = mask_filter(tiles_temp)\n",
    "            mask_tiles = {**mask_tiles, **tiles_temp}\n",
    "        print('# of mask tiles: {}'.format(len(mask_tiles)))\n",
    "\n",
    "        assert len(mask_tiles) * len(lst_tiles) <= limit, 'Limit Exceeded ({} total images)'.format(len(mask_tiles) * len(lst_tiles))\n",
    "        assert len(mask_tiles) > 0 and len(lst_tiles) > 0, 'Either masks or images are empty'   \n",
    "    \n",
    "        # Iterate through each image tile and apply mask, then save to ground_truth\n",
    "        for image_name, image in lst_tiles.items():\n",
    "            image_filename = image_name + '.npy'\n",
    "            for mask_name, mask in mask_tiles.items():\n",
    "                # Save masks\n",
    "                if not os.path.exists(os.path.join(save_path, 'masks', mask_name + 'npy')):\n",
    "                    np.save(os.path.join(save_path, 'masks', mask_name + 'npy'), mask)\n",
    "                    \n",
    "                masked_lst = np.multiply(image, mask)\n",
    "                masked_lst_filename = mask_name + '_' + image_name + '.npy'\n",
    "                # ADD ASSERTIONS HERE\n",
    "\n",
    "                # Save masked images \n",
    "                np.save(os.path.join(save_path, 'masked_images', masked_lst_filename), masked_lst)\n",
    "\n",
    "                # Log pair of masked images and original image to collection\n",
    "                collection.loc[len(collection.index)] = [ \n",
    "                    masked_lst_filename,\n",
    "                    image_filename,\n",
    "                ]      \n",
    "             \n",
    "    # Save collection to collection.csv in save_path\n",
    "    collection.to_csv(os.path.join(save_path, 'collection.csv'), index=False)\n",
    "    print('Sample pairs created: {}'.format(len(collection)))"
   ]
  },
  {
   "cell_type": "code",
   "execution_count": 3,
   "metadata": {},
   "outputs": [],
   "source": [
    "def mask_filter(images: dict, range: tuple, no_keys: int = -1):\n",
    "    \"\"\"Filter for masks based on percent cloud coverage and sets upper limit of masks to generate\n",
    "    from a set of images\n",
    "\n",
    "    Args:\n",
    "        images (dict): dict of images (filepath and numpy array)\n",
    "        range (tuple): tolerated cloud coverage (lower, upper) in range 0 to 1\n",
    "        no_keys (int, optional): amount of masks to generate from dict, defaults to all\n",
    "\n",
    "    Returns:\n",
    "        _type_: dict of masks of length no_keys (filepath and numpy array)\n",
    "    \"\"\"\n",
    "    for key, img in images.copy().items(): \n",
    "        if get_percent_coverage(img) < range[0] or get_percent_coverage(img) > range[1]:\n",
    "            del images[key]\n",
    "   \n",
    "    keys = images.keys()\n",
    "    \n",
    "    if no_keys > 0 and no_keys < len(keys):\n",
    "        keys = random.sample(sorted(images.keys()), no_keys)\n",
    "        \n",
    "    return {k: images[k] for k in keys}\n",
    "\n",
    "# def image_filter(images: dict, no_keys=-1):\n",
    "#     for key, img in images.copy().items(): \n",
    "#         if get_percent_coverage(img) != 0:\n",
    "#             del images[key]\n",
    "   \n",
    "#     keys = images.keys()\n",
    "    \n",
    "#     if no_keys > 0 and no_keys < len(keys):\n",
    "#         keys = random.sample(sorted(images.keys()), no_keys)\n",
    "        \n",
    "#     return {k: images[k] for k in keys}"
   ]
  },
  {
   "cell_type": "markdown",
   "metadata": {},
   "source": [
    "**Download and Generate Images**"
   ]
  },
  {
   "cell_type": "code",
   "execution_count": 4,
   "metadata": {},
   "outputs": [
    {
     "name": "stdout",
     "output_type": "stream",
     "text": [
      "Granules found: 1632\n"
     ]
    }
   ],
   "source": [
    "date_range = (\"2010-01-01\", \"2020-12-31\")\n",
    "bounding_box = (-109.668974, 43.898328, -108.548975, 44.07322)\n",
    "cloud_cover = (0, 50)\n",
    "count = 20\n",
    "save_path = os.path.join('../../data', 'set-0-50')\n",
    "\n",
    "query_modis(\n",
    "    date_range=date_range,\n",
    "    bounding_box=bounding_box,\n",
    "    cloud_cover=(0, 1),\n",
    "    count=20,\n",
    "    save_path=save_path\n",
    ")\n"
   ]
  },
  {
   "cell_type": "markdown",
   "metadata": {},
   "source": [
    "**Create Dataset**"
   ]
  },
  {
   "cell_type": "code",
   "execution_count": 5,
   "metadata": {},
   "outputs": [],
   "source": [
    "data_path = '../../data/'\n",
    "raw_path = os.path.join(data_path, 'LST_miniset', 'raw')\n",
    "samples = [os.path.join(raw_path, x) for x in os.listdir(raw_path)]\n",
    "masks = [os.path.join(raw_path, x) for x in os.listdir(raw_path)]"
   ]
  },
  {
   "cell_type": "code",
   "execution_count": 6,
   "metadata": {},
   "outputs": [
    {
     "ename": "NameError",
     "evalue": "name 'image_filter' is not defined",
     "output_type": "error",
     "traceback": [
      "\u001b[1;31m---------------------------------------------------------------------------\u001b[0m",
      "\u001b[1;31mNameError\u001b[0m                                 Traceback (most recent call last)",
      "Cell \u001b[1;32mIn[6], line 3\u001b[0m\n\u001b[0;32m      1\u001b[0m save_path \u001b[38;5;241m=\u001b[39m os\u001b[38;5;241m.\u001b[39mpath\u001b[38;5;241m.\u001b[39mjoin(data_path, \u001b[38;5;124m'\u001b[39m\u001b[38;5;124m1_10\u001b[39m\u001b[38;5;124m'\u001b[39m)\n\u001b[1;32m----> 3\u001b[0m \u001b[43mgenerate_lst_dataset\u001b[49m\u001b[43m(\u001b[49m\n\u001b[0;32m      4\u001b[0m \u001b[43m    \u001b[49m\u001b[43mimages\u001b[49m\u001b[38;5;241;43m=\u001b[39;49m\u001b[43msamples\u001b[49m\u001b[43m,\u001b[49m\u001b[43m \u001b[49m\n\u001b[0;32m      5\u001b[0m \u001b[43m    \u001b[49m\u001b[43mmasks\u001b[49m\u001b[38;5;241;43m=\u001b[39;49m\u001b[43mmasks\u001b[49m\u001b[43m,\u001b[49m\u001b[43m \u001b[49m\n\u001b[0;32m      6\u001b[0m \u001b[43m    \u001b[49m\u001b[43mpatch_size\u001b[49m\u001b[38;5;241;43m=\u001b[39;49m\u001b[43m(\u001b[49m\u001b[38;5;241;43m32\u001b[39;49m\u001b[43m,\u001b[49m\u001b[43m \u001b[49m\u001b[38;5;241;43m32\u001b[39;49m\u001b[43m)\u001b[49m\u001b[43m,\u001b[49m\u001b[43m \u001b[49m\n\u001b[0;32m      7\u001b[0m \u001b[43m    \u001b[49m\u001b[43mimage_filter\u001b[49m\u001b[38;5;241;43m=\u001b[39;49m\u001b[38;5;28;43;01mlambda\u001b[39;49;00m\u001b[43m \u001b[49m\u001b[43mx\u001b[49m\u001b[43m:\u001b[49m\u001b[43m \u001b[49m\u001b[43mimage_filter\u001b[49m\u001b[43m(\u001b[49m\u001b[43mx\u001b[49m\u001b[43m,\u001b[49m\u001b[43m \u001b[49m\u001b[38;5;241;43m500\u001b[39;49m\u001b[43m)\u001b[49m\u001b[43m,\u001b[49m\n\u001b[0;32m      8\u001b[0m \u001b[43m    \u001b[49m\u001b[43mmask_filter\u001b[49m\u001b[38;5;241;43m=\u001b[39;49m\u001b[38;5;28;43;01mlambda\u001b[39;49;00m\u001b[43m \u001b[49m\u001b[43mx\u001b[49m\u001b[43m:\u001b[49m\u001b[43m \u001b[49m\u001b[43mmask_filter\u001b[49m\u001b[43m(\u001b[49m\u001b[43mx\u001b[49m\u001b[43m,\u001b[49m\u001b[43m \u001b[49m\u001b[43m(\u001b[49m\u001b[38;5;241;43m0.01\u001b[39;49m\u001b[43m,\u001b[49m\u001b[43m \u001b[49m\u001b[38;5;241;43m0.1\u001b[39;49m\u001b[43m)\u001b[49m\u001b[43m,\u001b[49m\u001b[43m \u001b[49m\u001b[38;5;241;43m-\u001b[39;49m\u001b[38;5;241;43m1\u001b[39;49m\u001b[43m)\u001b[49m\u001b[43m,\u001b[49m\n\u001b[0;32m      9\u001b[0m \u001b[43m    \u001b[49m\u001b[43msave_path\u001b[49m\u001b[38;5;241;43m=\u001b[39;49m\u001b[43msave_path\u001b[49m\u001b[43m,\u001b[49m\n\u001b[0;32m     10\u001b[0m \u001b[43m    \u001b[49m\u001b[43mskip_mask\u001b[49m\u001b[38;5;241;43m=\u001b[39;49m\u001b[38;5;28;43;01mFalse\u001b[39;49;00m\n\u001b[0;32m     11\u001b[0m \u001b[43m)\u001b[49m\n\u001b[0;32m     13\u001b[0m f \u001b[38;5;241m=\u001b[39m \u001b[38;5;28mopen\u001b[39m(os\u001b[38;5;241m.\u001b[39mpath\u001b[38;5;241m.\u001b[39mjoin(save_path, \u001b[38;5;124m'\u001b[39m\u001b[38;5;124minfo.json\u001b[39m\u001b[38;5;124m'\u001b[39m), \u001b[38;5;124m'\u001b[39m\u001b[38;5;124mx\u001b[39m\u001b[38;5;124m'\u001b[39m)\n\u001b[0;32m     14\u001b[0m f\u001b[38;5;241m.\u001b[39mclose()\n",
      "Cell \u001b[1;32mIn[2], line 31\u001b[0m, in \u001b[0;36mgenerate_lst_dataset\u001b[1;34m(images, masks, patch_size, save_path, skip_mask, image_filter, mask_filter, limit)\u001b[0m\n\u001b[0;32m     29\u001b[0m     tiles_temp \u001b[38;5;241m=\u001b[39m retile_and_name(lst, basename, patch_size)\n\u001b[0;32m     30\u001b[0m     \u001b[38;5;28;01mif\u001b[39;00m image_filter \u001b[38;5;129;01mis\u001b[39;00m \u001b[38;5;129;01mnot\u001b[39;00m \u001b[38;5;28;01mNone\u001b[39;00m:\n\u001b[1;32m---> 31\u001b[0m         tiles_temp \u001b[38;5;241m=\u001b[39m \u001b[43mimage_filter\u001b[49m\u001b[43m(\u001b[49m\u001b[43mtiles_temp\u001b[49m\u001b[43m)\u001b[49m\n\u001b[0;32m     32\u001b[0m     lst_tiles \u001b[38;5;241m=\u001b[39m {\u001b[38;5;241m*\u001b[39m\u001b[38;5;241m*\u001b[39mlst_tiles, \u001b[38;5;241m*\u001b[39m\u001b[38;5;241m*\u001b[39mtiles_temp}\n\u001b[0;32m     33\u001b[0m \u001b[38;5;28mprint\u001b[39m(\u001b[38;5;124m'\u001b[39m\u001b[38;5;124m# of LST tiles: \u001b[39m\u001b[38;5;132;01m{}\u001b[39;00m\u001b[38;5;124m'\u001b[39m\u001b[38;5;241m.\u001b[39mformat(\u001b[38;5;28mlen\u001b[39m(lst_tiles)))\n",
      "Cell \u001b[1;32mIn[6], line 7\u001b[0m, in \u001b[0;36m<lambda>\u001b[1;34m(x)\u001b[0m\n\u001b[0;32m      1\u001b[0m save_path \u001b[38;5;241m=\u001b[39m os\u001b[38;5;241m.\u001b[39mpath\u001b[38;5;241m.\u001b[39mjoin(data_path, \u001b[38;5;124m'\u001b[39m\u001b[38;5;124m1_10\u001b[39m\u001b[38;5;124m'\u001b[39m)\n\u001b[0;32m      3\u001b[0m generate_lst_dataset(\n\u001b[0;32m      4\u001b[0m     images\u001b[38;5;241m=\u001b[39msamples, \n\u001b[0;32m      5\u001b[0m     masks\u001b[38;5;241m=\u001b[39mmasks, \n\u001b[0;32m      6\u001b[0m     patch_size\u001b[38;5;241m=\u001b[39m(\u001b[38;5;241m32\u001b[39m, \u001b[38;5;241m32\u001b[39m), \n\u001b[1;32m----> 7\u001b[0m     image_filter\u001b[38;5;241m=\u001b[39m\u001b[38;5;28;01mlambda\u001b[39;00m x: \u001b[43mimage_filter\u001b[49m(x, \u001b[38;5;241m500\u001b[39m),\n\u001b[0;32m      8\u001b[0m     mask_filter\u001b[38;5;241m=\u001b[39m\u001b[38;5;28;01mlambda\u001b[39;00m x: mask_filter(x, (\u001b[38;5;241m0.01\u001b[39m, \u001b[38;5;241m0.1\u001b[39m), \u001b[38;5;241m-\u001b[39m\u001b[38;5;241m1\u001b[39m),\n\u001b[0;32m      9\u001b[0m     save_path\u001b[38;5;241m=\u001b[39msave_path,\n\u001b[0;32m     10\u001b[0m     skip_mask\u001b[38;5;241m=\u001b[39m\u001b[38;5;28;01mFalse\u001b[39;00m\n\u001b[0;32m     11\u001b[0m )\n\u001b[0;32m     13\u001b[0m f \u001b[38;5;241m=\u001b[39m \u001b[38;5;28mopen\u001b[39m(os\u001b[38;5;241m.\u001b[39mpath\u001b[38;5;241m.\u001b[39mjoin(save_path, \u001b[38;5;124m'\u001b[39m\u001b[38;5;124minfo.json\u001b[39m\u001b[38;5;124m'\u001b[39m), \u001b[38;5;124m'\u001b[39m\u001b[38;5;124mx\u001b[39m\u001b[38;5;124m'\u001b[39m)\n\u001b[0;32m     14\u001b[0m f\u001b[38;5;241m.\u001b[39mclose()\n",
      "\u001b[1;31mNameError\u001b[0m: name 'image_filter' is not defined"
     ]
    }
   ],
   "source": [
    "save_path = os.path.join(data_path, '1_10')\n",
    "\n",
    "generate_lst_dataset(\n",
    "    images=samples, \n",
    "    masks=masks, \n",
    "    patch_size=(32, 32), \n",
    "    image_filter=lambda x: image_filter(x, 500),\n",
    "    mask_filter=lambda x: mask_filter(x, (0.01, 0.1), -1),\n",
    "    save_path=save_path,\n",
    "    skip_mask=False\n",
    ")\n",
    "\n",
    "f = open(os.path.join(save_path, 'info.json'), 'x')\n",
    "f.close()\n",
    "with open(os.path.join(save_path, 'info.json'), 'w') as outfile: \n",
    "    json.dump({'samples': str(samples), 'masks': str(masks)}, outfile)"
   ]
  },
  {
   "cell_type": "code",
   "execution_count": 7,
   "metadata": {},
   "outputs": [],
   "source": [
    "coll = pd.read_csv(os.path.join(data_path, 'set_baseline', 'collection.csv'), index_col=False)\n",
    "coll['sample'].equals(coll['ground_truth'])\n",
    "\n",
    "for i in coll.iterrows():\n",
    "    assert (np.load(os.path.join(data_path, 'set_baseline', 'ground_truth', i[1]['sample'])) == np.load(os.path.join(data_path, 'set_baseline', 'ground_truth', i[1]['ground_truth']))).all()"
   ]
  }
 ],
 "metadata": {
  "kernelspec": {
   "display_name": "cloud_inpaint",
   "language": "python",
   "name": "python3"
  },
  "language_info": {
   "codemirror_mode": {
    "name": "ipython",
    "version": 3
   },
   "file_extension": ".py",
   "mimetype": "text/x-python",
   "name": "python",
   "nbconvert_exporter": "python",
   "pygments_lexer": "ipython3",
   "version": "3.11.6"
  }
 },
 "nbformat": 4,
 "nbformat_minor": 2
}
