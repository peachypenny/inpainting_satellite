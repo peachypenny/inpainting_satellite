{
 "cells": [
  {
   "cell_type": "code",
   "execution_count": 1,
   "metadata": {},
   "outputs": [],
   "source": [
    "import numpy as np\n",
    "import pandas as pd\n",
    "import os\n",
    "import sys\n",
    "import geopandas as gpd\n",
    "import json\n",
    "\n",
    "sys.path.append('../source')\n",
    "\n",
    "from utils import *\n",
    "from data import *"
   ]
  },
  {
   "cell_type": "code",
   "execution_count": 2,
   "metadata": {},
   "outputs": [],
   "source": [
    "def get_lat_lon(resolution: tuple, min_lat: float, min_lon: float, max_lat: float, max_lon: float):\n",
    "    lat = np.linspace(min_lat, max_lat, resolution[0])\n",
    "    lon = np.linspace(min_lon, max_lon, resolution[1])\n",
    "    \n",
    "    mesh = np.meshgrid(lat, lon)\n",
    "    assert mesh.shape == resolution, 'result resolution and original resolution mismatch'\n",
    "    \n",
    "    return mesh\n"
   ]
  },
  {
   "cell_type": "code",
   "execution_count": 3,
   "metadata": {},
   "outputs": [],
   "source": [
    "root = '../../data/set-0-4'\n",
    "f = open(os.path.join(root, 'query.json'))\n",
    "set_meta = json.load(f)"
   ]
  },
  {
   "cell_type": "code",
   "execution_count": 4,
   "metadata": {},
   "outputs": [
    {
     "data": {
      "text/plain": [
       "dict_keys(['meta', 'umm', 'size'])"
      ]
     },
     "execution_count": 4,
     "metadata": {},
     "output_type": "execute_result"
    }
   ],
   "source": [
    "file = 'MOD11A1.A2022193.h10v04.061.2022195152242'\n",
    "set_meta['metadata'][file].keys()"
   ]
  },
  {
   "cell_type": "code",
   "execution_count": 10,
   "metadata": {},
   "outputs": [
    {
     "data": {
      "text/plain": [
       "{'DayNightFlag': 'Both',\n",
       " 'Identifiers': [{'Identifier': 'MOD11A1.A2022193.h10v04.061.2022195152242',\n",
       "   'IdentifierType': 'ProducerGranuleId'}],\n",
       " 'ProductionDateTime': '2022-07-14T15:22:42.000Z',\n",
       " 'ArchiveAndDistributionInformation': [{'Name': 'Not provided',\n",
       "   'Size': 7.29328,\n",
       "   'SizeUnit': 'MB'}]}"
      ]
     },
     "execution_count": 10,
     "metadata": {},
     "output_type": "execute_result"
    }
   ],
   "source": [
    "set_meta['metadata'][file]['umm']['DataGranule']"
   ]
  },
  {
   "cell_type": "code",
   "execution_count": null,
   "metadata": {},
   "outputs": [],
   "source": [
    "import numpy as np\n",
    "from shapely.geometry import Polygon\n",
    "\n",
    "def get_lat_lon(resolution: tuple, min_lat: float, min_lon: float, max_lat: float, max_lon: float):\n",
    "    # Generate evenly spaced latitude and longitude values within the bounding box\n",
    "    lats = np.linspace(min_lat, max_lat, resolution[0])\n",
    "    lons = np.linspace(min_lon, max_lon, resolution[1])\n",
    "\n",
    "    # Create meshgrid\n",
    "    lon_grid, lat_grid = np.meshgrid(lons, lats)\n",
    "\n",
    "    # Flatten meshgrid\n",
    "    lat_lon_pairs = np.vstack([lat_grid.ravel(), lon_grid.ravel()]).T\n",
    "\n",
    "    # Convert boundary points to a polygon\n",
    "    boundary_polygon = Polygon(boundary_points)\n",
    "\n",
    "    # Filter out points lying outside the boundary\n",
    "    inside_boundary = [point for point in lat_lon_pairs if boundary_polygon.contains(Point(point[1], point[0]))]\n",
    "\n",
    "    return np.array(inside_boundary)\n"
   ]
  },
  {
   "cell_type": "code",
   "execution_count": 5,
   "metadata": {},
   "outputs": [
    {
     "data": {
      "text/plain": [
       "{'Points': [{'Longitude': -104.450758297162, 'Latitude': 40.0041666666667},\n",
       "  {'Longitude': -91.3951139151891, 'Latitude': 40.0041666666667},\n",
       "  {'Longitude': -108.907161884185, 'Latitude': 49.9958333333333},\n",
       "  {'Longitude': -124.464374221687, 'Latitude': 49.9958333333333},\n",
       "  {'Longitude': -104.450758297162, 'Latitude': 40.0041666666667}]}"
      ]
     },
     "execution_count": 5,
     "metadata": {},
     "output_type": "execute_result"
    }
   ],
   "source": [
    "set_meta['metadata'][file]['umm']['SpatialExtent']['HorizontalSpatialDomain']['Geometry']['GPolygons'][0]['Boundary']\n"
   ]
  },
  {
   "cell_type": "code",
   "execution_count": null,
   "metadata": {},
   "outputs": [],
   "source": []
  }
 ],
 "metadata": {
  "kernelspec": {
   "display_name": "inpaint",
   "language": "python",
   "name": "python3"
  },
  "language_info": {
   "codemirror_mode": {
    "name": "ipython",
    "version": 3
   },
   "file_extension": ".py",
   "mimetype": "text/x-python",
   "name": "python",
   "nbconvert_exporter": "python",
   "pygments_lexer": "ipython3",
   "version": "3.9.18"
  }
 },
 "nbformat": 4,
 "nbformat_minor": 2
}
