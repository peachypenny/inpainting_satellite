{
 "cells": [
  {
   "cell_type": "code",
   "execution_count": 1,
   "metadata": {},
   "outputs": [],
   "source": [
    "import os\n",
    "import sys\n",
    "import numpy as np \n",
    "import pandas as pd\n",
    "import seaborn as sns\n",
    "import matplotlib.pyplot as plt\n",
    "from skimage import measure as sm\n",
    "from skimage.transform import rescale, resize\n",
    "\n",
    "sys.path.append('../source/')\n",
    "\n",
    "from data import *\n",
    "from utils import *"
   ]
  },
  {
   "cell_type": "code",
   "execution_count": 21,
   "metadata": {},
   "outputs": [
    {
     "data": {
      "text/plain": [
       "<matplotlib.image.AxesImage at 0x7f78e9cb3940>"
      ]
     },
     "execution_count": 21,
     "metadata": {},
     "output_type": "execute_result"
    },
    {
     "data": {
      "image/png": "[encoded data removed]",
      "text/plain": [
       "<Figure size 640x480 with 3 Axes>"
      ]
     },
     "metadata": {},
     "output_type": "display_data"
    }
   ],
   "source": [
    "sample = np.load('../../data/set_baseline/ground_truth/MOD11A1.A2010273.h10v04.061.2021180083419_0_6.npy')\n",
    "downsampled = resize(sample, (sample.shape[0]/2, sample.shape[1]/2))\n",
    "upsampled = resize(downsampled, (sample.shape[0], sample.shape[1]))\n",
    "\n",
    "fig, ax = plt.subplots(1, 3)\n",
    "ax[0].imshow(sample)\n",
    "ax[1].imshow(downsampled)\n",
    "ax[2].imshow(upsampled)"
   ]
  },
  {
   "cell_type": "code",
   "execution_count": 27,
   "metadata": {},
   "outputs": [
    {
     "name": "stdout",
     "output_type": "stream",
     "text": [
      "287.75619140624997 287.760008086671 287.7575562893986\n",
      "2.537293697738647 1.5333515017870583 1.1248115568153607\n"
     ]
    }
   ],
   "source": [
    "print(np.mean(sample), np.mean(downsampled), np.mean(upsampled))\n",
    "print(np.var(sample), np.var(downsampled), np.var(upsampled))"
   ]
  },
  {
   "cell_type": "markdown",
   "metadata": {},
   "source": [
    "**Create Dataset**"
   ]
  },
  {
   "cell_type": "code",
   "execution_count": 2,
   "metadata": {},
   "outputs": [],
   "source": [
    "root = '../../data/super_baseline/'"
   ]
  },
  {
   "cell_type": "code",
   "execution_count": null,
   "metadata": {},
   "outputs": [],
   "source": [
    "data_dir = os.path.join(root, 'ground_truth')\n",
    "collection = pd.DataFrame(columns=['sample', 'ground_truth'])\n",
    "\n",
    "for img_path in os.listdir(data_dir):\n",
    "    img_name = os.path.splitext(os.path.basename(img_path))[0]\n",
    "    sample_name = img_name + '_scaled'+'.npy'\n",
    "    \n",
    "    sample = np.load(os.path.join(data_dir, img_path))\n",
    "    downsampled = resize(sample, (sample.shape[0]/2, sample.shape[1]/2))\n",
    "    upsampled = resize(downsampled, (sample.shape[0], sample.shape[1]))\n",
    "\n",
    "    np.save(os.path.join(root, 'samples', sample_name), upsampled)\n",
    "    collection.loc[len(collection.index)] = [ \n",
    "        sample_name,\n",
    "        img_path,\n",
    "    ]  "
   ]
  },
  {
   "cell_type": "code",
   "execution_count": 31,
   "metadata": {},
   "outputs": [],
   "source": [
    "collection.to_csv(os.path.join(root, 'collection.csv'))"
   ]
  },
  {
   "cell_type": "code",
   "execution_count": 33,
   "metadata": {},
   "outputs": [],
   "source": [
    "assert len(collection) == len(os.listdir(data_dir))"
   ]
  },
  {
   "cell_type": "code",
   "execution_count": 4,
   "metadata": {},
   "outputs": [],
   "source": [
    "dataset = LSTDataset(os.path.join(root, 'ground_truth'), os.path.join(root, 'samples'), os.path.join(root, 'collection.csv'))"
   ]
  },
  {
   "cell_type": "code",
   "execution_count": 10,
   "metadata": {},
   "outputs": [],
   "source": [
    "for batch in dataset:\n",
    "    sample, image = batch\n",
    "    assert np.abs(np.mean(sample) - np.mean(image)) < 1, 'temp diff'"
   ]
  },
  {
   "cell_type": "code",
   "execution_count": null,
   "metadata": {},
   "outputs": [],
   "source": []
  }
 ],
 "metadata": {
  "kernelspec": {
   "display_name": "inpaint",
   "language": "python",
   "name": "python3"
  },
  "language_info": {
   "codemirror_mode": {
    "name": "ipython",
    "version": 3
   },
   "file_extension": ".py",
   "mimetype": "text/x-python",
   "name": "python",
   "nbconvert_exporter": "python",
   "pygments_lexer": "ipython3",
   "version": "3.9.18"
  }
 },
 "nbformat": 4,
 "nbformat_minor": 2
}
