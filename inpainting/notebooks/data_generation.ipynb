{
 "cells": [
  {
   "cell_type": "code",
   "execution_count": 1,
   "metadata": {},
   "outputs": [],
   "source": [
    "import sys\n",
    "sys.path.append('../source')\n",
    "import os\n",
    "import numpy as np\n",
    "import pandas as pd\n",
    "import random\n",
    "import json\n",
    "import earthaccess\n",
    "from utils import *\n",
    "from data import *"
   ]
  },
  {
   "cell_type": "markdown",
   "metadata": {},
   "source": [
    "**Required Funcs**"
   ]
  },
  {
   "cell_type": "code",
   "execution_count": 2,
   "metadata": {},
   "outputs": [],
   "source": [
    "def generate_lst_dataset(\n",
    "    images: list, \n",
    "    masks: list, \n",
    "    patch_size: tuple, \n",
    "    save_path: str,\n",
    "    skip_mask = False, \n",
    "    image_filter = None,\n",
    "    mask_filter = None,\n",
    "    limit=5000\n",
    "    ):\n",
    "    \"\"\"Generates LST dataset by retiling images masks. Masks are named by originalname_r_c\n",
    "\n",
    "    Args:\n",
    "        images (list): hdf images to retile\n",
    "        masks (list): hdf masks to retile\n",
    "        patch_size (tuple): size of patches\n",
    "        image_filter (function): function returning a filtered list of images\n",
    "        mask_filter (function): function returning a filtered list of masks\n",
    "        save_path (str): directory to save images and masked images\n",
    "        limit (int, optional): set limit of images to save. Defaults to 5000.\n",
    "    \"\"\"\n",
    "    collection = pd.DataFrame(columns=['sample', 'ground_truth'])\n",
    "    \n",
    "    # Create LST tiles from hdf files\n",
    "    lst_tiles = {}\n",
    "    for image in images:\n",
    "        basename = os.path.splitext(os.path.basename(image))[0]\n",
    "        lst = get_lst_day(image)\n",
    "        tiles_temp = retile_and_name(lst, basename, patch_size)\n",
    "        if image_filter is not None:\n",
    "            tiles_temp = image_filter(tiles_temp)\n",
    "        lst_tiles = {**lst_tiles, **tiles_temp}\n",
    "    print('# of LST tiles: {}'.format(len(lst_tiles)))\n",
    "        \n",
    "    assert len(os.listdir(save_path)) == 0, 'Save path not empty'\n",
    "    \n",
    "    # Create paths for ground_truth\n",
    "    if not os.path.exists(save_path):\n",
    "        os.makedirs(save_path)\n",
    "    if not os.path.exists(os.path.join(save_path, 'ground_truth')):\n",
    "        os.makedirs(os.path.join(save_path, 'ground_truth'))\n",
    "    \n",
    "    # Generate ground truth\n",
    "    for image_name, image in lst_tiles.items():\n",
    "        image_filename = image_name + '.npy'\n",
    "        np.save(os.path.join(save_path, 'ground_truth', image_filename), image)\n",
    "        if skip_mask:\n",
    "            collection.loc[len(collection.index)] = [ \n",
    "                image_filename,\n",
    "                image_filename,\n",
    "            ]      \n",
    "\n",
    "    if skip_mask:\n",
    "        return\n",
    "\n",
    "    # Make directories for masked images and masks, then creates masks and applies over \n",
    "    # ground truth images\n",
    "    if not os.path.exists(os.path.join(save_path, 'masked_images')):\n",
    "        os.makedirs(os.path.join(save_path, 'masked_images'))\n",
    "    if not os.path.exists(os.path.join(save_path, 'masks')):\n",
    "        os.makedirs(os.path.join(save_path, 'masks'))\n",
    "    \n",
    "    # Creates masks\n",
    "    mask_tiles = {}\n",
    "    for mask in masks:\n",
    "        basename = os.path.splitext(os.path.basename(mask))[0]\n",
    "        mask = get_cloud_mask(mask)\n",
    "        tiles_temp = retile_and_name(mask, basename, patch_size)\n",
    "        if mask_filter is not None:\n",
    "            tiles_temp = mask_filter(tiles_temp)\n",
    "        mask_tiles = {**mask_tiles, **tiles_temp}\n",
    "    print('# of mask tiles: {}'.format(len(mask_tiles)))\n",
    "\n",
    "    assert len(mask_tiles) * len(lst_tiles) <= limit, 'Limit Exceeded ({} total images)'.format(len(mask_tiles) * len(lst_tiles))\n",
    "    assert len(mask_tiles) > 0 and len(lst_tiles) > 0, 'Either masks or images are empty'   \n",
    "\n",
    "    # Iterate through each image tile and apply mask, then save to ground_truth\n",
    "    for image_name, image in lst_tiles.items():\n",
    "        image_filename = image_name + '.npy'\n",
    "        for mask_name, mask in mask_tiles.items():\n",
    "            # Save masks\n",
    "            if not os.path.exists(os.path.join(save_path, 'masks', mask_name + 'npy')):\n",
    "                np.save(os.path.join(save_path, 'masks', mask_name + 'npy'), mask)\n",
    "                \n",
    "            masked_lst = np.multiply(image, mask)\n",
    "            masked_lst_filename = mask_name + '_' + image_name + '.npy'\n",
    "            # ADD ASSERTIONS HERE\n",
    "\n",
    "            # Save masked images \n",
    "            np.save(os.path.join(save_path, 'masked_images', masked_lst_filename), masked_lst)\n",
    "\n",
    "            # Log pair of masked images and original image to collection\n",
    "            collection.loc[len(collection.index)] = [ \n",
    "                masked_lst_filename,\n",
    "                image_filename,\n",
    "            ]      \n",
    "    assert len(collection) == len(os.listdir(os.path.join(save_path, 'masked_images')))\n",
    "    \n",
    "    # Save collection to collection.csv in save_path\n",
    "    collection.to_csv(os.path.join(save_path, 'collection.csv'), index=False)\n",
    "    print('Sample pairs created: {}'.format(len(collection)))"
   ]
  },
  {
   "cell_type": "code",
   "execution_count": 3,
   "metadata": {},
   "outputs": [],
   "source": [
    "def mask_filter(images: dict, range: tuple, no_keys: int = -1):\n",
    "    \"\"\"Filter for masks based on percent cloud coverage and sets upper limit of masks to generate\n",
    "    from a set of images\n",
    "\n",
    "    Args:\n",
    "        images (dict): dict of images (filepath and numpy array)\n",
    "        range (tuple): tolerated cloud coverage (lower, upper) in range 0 to 1\n",
    "        no_keys (int, optional): amount of masks to generate from dict, defaults to all\n",
    "\n",
    "    Returns:\n",
    "        _type_: dict of masks of length no_keys (filepath and numpy array)\n",
    "    \"\"\"\n",
    "    for key, img in images.copy().items(): \n",
    "        if get_percent_coverage(img) < range[0] or get_percent_coverage(img) > range[1]:\n",
    "            del images[key]\n",
    "   \n",
    "    keys = images.keys()\n",
    "    \n",
    "    if no_keys > 0 and no_keys < len(keys):\n",
    "        keys = random.sample(sorted(images.keys()), no_keys)\n",
    "        \n",
    "    return {k: images[k] for k in keys}\n",
    "\n",
    "# def image_filter(images: dict, no_keys=-1):\n",
    "#     for key, img in images.copy().items(): \n",
    "#         if get_percent_coverage(img) != 0:\n",
    "#             del images[key]\n",
    "   \n",
    "#     keys = images.keys()\n",
    "    \n",
    "#     if no_keys > 0 and no_keys < len(keys):\n",
    "#         keys = random.sample(sorted(images.keys()), no_keys)\n",
    "        \n",
    "#     return {k: images[k] for k in keys}"
   ]
  },
  {
   "cell_type": "markdown",
   "metadata": {},
   "source": [
    "**Download and Generate Images**"
   ]
  },
  {
   "cell_type": "code",
   "execution_count": null,
   "metadata": {},
   "outputs": [],
   "source": [
    "date_range = (\"2020-01-01\", \"2024-12-31\")\n",
    "bounding_box = (-109.668974, 43.898328, -108.548975, 44.07322)\n",
    "cloud_cover = (0, 4)\n",
    "count = 8\n",
    "save_path = os.path.join('../../data', 'set-{}-{}'.format(cloud_cover[0], cloud_cover[1]))\n",
    "\n",
    "query_modis(\n",
    "    date_range=date_range,\n",
    "    bounding_box=bounding_box,\n",
    "    cloud_cover=cloud_cover,\n",
    "    count=count,\n",
    "    path=save_path,\n",
    ")"
   ]
  },
  {
   "cell_type": "markdown",
   "metadata": {},
   "source": [
    "**Create Dataset**"
   ]
  },
  {
   "cell_type": "code",
   "execution_count": 4,
   "metadata": {},
   "outputs": [],
   "source": [
    "data_path = '../../data/'\n",
    "img_path = os.path.join(data_path, 'set-0-4/raw')\n",
    "mask_path = os.path.join(data_path, 'set-5-25/raw')\n",
    "samples = [os.path.join(img_path, x) for x in os.listdir(img_path)]\n",
    "masks = [os.path.join(mask_path, x) for x in os.listdir(mask_path)]"
   ]
  },
  {
   "cell_type": "code",
   "execution_count": 5,
   "metadata": {},
   "outputs": [
    {
     "name": "stdout",
     "output_type": "stream",
     "text": [
      "# of samples: 8\n",
      "# of masks: 50\n"
     ]
    }
   ],
   "source": [
    "print('# of samples: {}\\n# of masks: {}'.format(len(samples), len(masks)))"
   ]
  },
  {
   "cell_type": "code",
   "execution_count": 19,
   "metadata": {},
   "outputs": [
    {
     "name": "stdout",
     "output_type": "stream",
     "text": [
      "# of LST tiles: 24\n",
      "# of mask tiles: 243\n",
      "Sample pairs created: 5832\n"
     ]
    }
   ],
   "source": [
    "bins = (0.1, 0.25)\n",
    "save_path = os.path.join(data_path, 'LST-{}-{}'.format(int(bins[0]*100), int(bins[1]*100)))\n",
    "\n",
    "generate_lst_dataset(\n",
    "    images=samples, \n",
    "    masks=masks, \n",
    "    patch_size=(32, 32), \n",
    "    image_filter=lambda x: mask_filter(x, (0, 0), 3),\n",
    "    mask_filter=lambda x: mask_filter(x, (bins[0], bins[1]), 5),\n",
    "    save_path=save_path,\n",
    "    skip_mask=False,\n",
    "    limit=6000\n",
    ")\n",
    "\n",
    "with open(os.path.join(save_path, 'info.json'), 'w') as outfile: \n",
    "    json.dump({'samples': str(samples), 'masks': str(masks)}, outfile)"
   ]
  },
  {
   "cell_type": "markdown",
   "metadata": {},
   "source": [
    "**Dataset Vis**"
   ]
  },
  {
   "cell_type": "code",
   "execution_count": 24,
   "metadata": {},
   "outputs": [],
   "source": [
    "import sys\n",
    "sys.path.append('../source')\n",
    "from data import *\n",
    "from utils import*\n",
    "import matplotlib.pyplot as plt\n",
    "import matplotlib.colors as colors\n",
    "import seaborn as sns"
   ]
  },
  {
   "cell_type": "code",
   "execution_count": 25,
   "metadata": {},
   "outputs": [],
   "source": [
    "data_root = '../../data/LST-5-10/'\n",
    "dataset = LSTDataset(\n",
    "    data_path=os.path.join(data_root, 'ground_truth'), \n",
    "    mask_path=os.path.join(data_root, 'masked_images'),\n",
    "    collection_path=os.path.join(data_root, 'collection.csv')\n",
    "    )"
   ]
  },
  {
   "cell_type": "code",
   "execution_count": 31,
   "metadata": {},
   "outputs": [
    {
     "data": {
      "text/plain": [
       "Text(0.5, 1.0, 'Sample')"
      ]
     },
     "execution_count": 31,
     "metadata": {},
     "output_type": "execute_result"
    },
    {
     "data": {
      "image/png": "[encoded data removed]",
      "text/plain": [
       "<Figure size 800x300 with 4 Axes>"
      ]
     },
     "metadata": {},
     "output_type": "display_data"
    }
   ],
   "source": [
    "masked, sample = dataset[np.random.randint(len(dataset))]\n",
    "cmap = sns.color_palette(\n",
    "    'rocket', as_cmap=True\n",
    ")\n",
    "norm = colors.PowerNorm(gamma=0.8, vmin = 275, vmax=np.max(sample))\n",
    "\n",
    "fig, axs = plt.subplots(1, 2, figsize=(8, 3))\n",
    "sns.heatmap(masked, ax=axs[0], cmap=cmap, norm=norm, xticklabels=False, yticklabels=False)\n",
    "axs[0].set_title('Masked')\n",
    "\n",
    "sns.heatmap(sample, ax=axs[1], cmap=cmap, norm=norm, xticklabels=False, yticklabels=False)\n",
    "axs[1].set_title('Sample')\n"
   ]
  }
 ],
 "metadata": {
  "kernelspec": {
   "display_name": "cloud_inpaint",
   "language": "python",
   "name": "python3"
  },
  "language_info": {
   "codemirror_mode": {
    "name": "ipython",
    "version": 3
   },
   "file_extension": ".py",
   "mimetype": "text/x-python",
   "name": "python",
   "nbconvert_exporter": "python",
   "pygments_lexer": "ipython3",
   "version": "3.11.6"
  }
 },
 "nbformat": 4,
 "nbformat_minor": 2
}
